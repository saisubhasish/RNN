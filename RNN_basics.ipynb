{
  "nbformat": 4,
  "nbformat_minor": 0,
  "metadata": {
    "colab": {
      "provenance": []
    },
    "kernelspec": {
      "name": "python3",
      "display_name": "Python 3"
    },
    "language_info": {
      "name": "python"
    },
    "accelerator": "GPU",
    "gpuClass": "standard"
  },
  "cells": [
    {
      "cell_type": "markdown",
      "source": [
        "## How to do integer encoding using keras"
      ],
      "metadata": {
        "id": "LNPW-9PDX31H"
      }
    },
    {
      "cell_type": "code",
      "execution_count": 1,
      "metadata": {
        "id": "SX1YuKQ4UDon"
      },
      "outputs": [],
      "source": [
        "import numpy as np"
      ]
    },
    {
      "cell_type": "code",
      "source": [
        "docs = ['recurrent neural network',\n",
        "\t\t'neural network',\n",
        "\t\t'artificial neural',\n",
        "\t\t'connections between nodes',\n",
        "\t\t'can create a cycle',\n",
        "\t\t'allowing output',\n",
        "\t\t'some nodes to affect subsequent',\n",
        "\t\t'exhibit temporal',\n",
        "\t\t'dynamic behavior',\n",
        "\t\t'type of Neural Network',\n",
        "    'affect subsequent']"
      ],
      "metadata": {
        "id": "KB7xfbIoWmy3"
      },
      "execution_count": 2,
      "outputs": []
    },
    {
      "cell_type": "code",
      "source": [
        "from keras.preprocessing.text import Tokenizer\n",
        "\n",
        "tokenizer = Tokenizer(oov_token='<nothing>')"
      ],
      "metadata": {
        "id": "pOJzJ3vzUOkh"
      },
      "execution_count": 4,
      "outputs": []
    },
    {
      "cell_type": "code",
      "source": [
        "# We are using tokenizer to assign an unique id to each word\n",
        "# We mostly use word tokenizer\n",
        "\n",
        "tokenizer.fit_on_texts(docs)"
      ],
      "metadata": {
        "id": "njO0da4-Unl8"
      },
      "execution_count": 6,
      "outputs": []
    },
    {
      "cell_type": "code",
      "source": [
        "tokenizer.word_index"
      ],
      "metadata": {
        "id": "GrKpFbzRUucs",
        "colab": {
          "base_uri": "https://localhost:8080/"
        },
        "outputId": "c8927ba6-1f9d-4ca6-8fcc-590cd6e26628"
      },
      "execution_count": 7,
      "outputs": [
        {
          "output_type": "execute_result",
          "data": {
            "text/plain": [
              "{'<nothing>': 1,\n",
              " 'neural': 2,\n",
              " 'network': 3,\n",
              " 'nodes': 4,\n",
              " 'affect': 5,\n",
              " 'subsequent': 6,\n",
              " 'recurrent': 7,\n",
              " 'artificial': 8,\n",
              " 'connections': 9,\n",
              " 'between': 10,\n",
              " 'can': 11,\n",
              " 'create': 12,\n",
              " 'a': 13,\n",
              " 'cycle': 14,\n",
              " 'allowing': 15,\n",
              " 'output': 16,\n",
              " 'some': 17,\n",
              " 'to': 18,\n",
              " 'exhibit': 19,\n",
              " 'temporal': 20,\n",
              " 'dynamic': 21,\n",
              " 'behavior': 22,\n",
              " 'type': 23,\n",
              " 'of': 24}"
            ]
          },
          "metadata": {},
          "execution_count": 7
        }
      ]
    },
    {
      "cell_type": "code",
      "source": [
        "# Getting the count of each word\n",
        "\n",
        "tokenizer.word_counts"
      ],
      "metadata": {
        "colab": {
          "base_uri": "https://localhost:8080/"
        },
        "id": "jNcKSYUYegGl",
        "outputId": "c66aac0a-3058-4b57-b34b-f098a2e14d11"
      },
      "execution_count": 8,
      "outputs": [
        {
          "output_type": "execute_result",
          "data": {
            "text/plain": [
              "OrderedDict([('recurrent', 2),\n",
              "             ('neural', 8),\n",
              "             ('network', 6),\n",
              "             ('artificial', 2),\n",
              "             ('connections', 2),\n",
              "             ('between', 2),\n",
              "             ('nodes', 4),\n",
              "             ('can', 2),\n",
              "             ('create', 2),\n",
              "             ('a', 2),\n",
              "             ('cycle', 2),\n",
              "             ('allowing', 2),\n",
              "             ('output', 2),\n",
              "             ('some', 2),\n",
              "             ('to', 2),\n",
              "             ('affect', 4),\n",
              "             ('subsequent', 4),\n",
              "             ('exhibit', 2),\n",
              "             ('temporal', 2),\n",
              "             ('dynamic', 2),\n",
              "             ('behavior', 2),\n",
              "             ('type', 2),\n",
              "             ('of', 2)])"
            ]
          },
          "metadata": {},
          "execution_count": 8
        }
      ]
    },
    {
      "cell_type": "code",
      "source": [
        "# Getting the unique word count\n",
        "\n",
        "tokenizer.document_count"
      ],
      "metadata": {
        "colab": {
          "base_uri": "https://localhost:8080/"
        },
        "id": "mx3SMLV3euuU",
        "outputId": "ffa8d946-1c04-478e-f0ea-c99436e48904"
      },
      "execution_count": 9,
      "outputs": [
        {
          "output_type": "execute_result",
          "data": {
            "text/plain": [
              "22"
            ]
          },
          "metadata": {},
          "execution_count": 9
        }
      ]
    },
    {
      "cell_type": "code",
      "source": [
        "# Dimension of each sentense \n",
        "\n",
        "sequences = tokenizer.texts_to_sequences(docs)\n",
        "sequences"
      ],
      "metadata": {
        "id": "xNrqCeiUU05s",
        "colab": {
          "base_uri": "https://localhost:8080/"
        },
        "outputId": "3c0f842d-980e-40ce-a6cd-6eb7c8ad74b3"
      },
      "execution_count": 14,
      "outputs": [
        {
          "output_type": "execute_result",
          "data": {
            "text/plain": [
              "[[7, 2, 3],\n",
              " [2, 3],\n",
              " [8, 2],\n",
              " [9, 10, 4],\n",
              " [11, 12, 13, 14],\n",
              " [15, 16],\n",
              " [17, 4, 18, 5, 6],\n",
              " [19, 20],\n",
              " [21, 22],\n",
              " [23, 24, 2, 3],\n",
              " [5, 6]]"
            ]
          },
          "metadata": {},
          "execution_count": 14
        }
      ]
    },
    {
      "cell_type": "code",
      "source": [
        "# Adding padding to make eligible for input to network\n",
        "\n",
        "from keras.utils import pad_sequences"
      ],
      "metadata": {
        "id": "Y15DVHzhVCEY"
      },
      "execution_count": 15,
      "outputs": []
    },
    {
      "cell_type": "code",
      "source": [
        "sequences = pad_sequences(sequences,padding='post')"
      ],
      "metadata": {
        "id": "H00D6kZlVOC4"
      },
      "execution_count": 16,
      "outputs": []
    },
    {
      "cell_type": "code",
      "source": [
        "sequences"
      ],
      "metadata": {
        "colab": {
          "base_uri": "https://localhost:8080/"
        },
        "id": "DjL4mCzTV4rT",
        "outputId": "c224ac72-7afc-4c71-97b8-099b81e42dfa"
      },
      "execution_count": 17,
      "outputs": [
        {
          "output_type": "execute_result",
          "data": {
            "text/plain": [
              "array([[ 7,  2,  3,  0,  0],\n",
              "       [ 2,  3,  0,  0,  0],\n",
              "       [ 8,  2,  0,  0,  0],\n",
              "       [ 9, 10,  4,  0,  0],\n",
              "       [11, 12, 13, 14,  0],\n",
              "       [15, 16,  0,  0,  0],\n",
              "       [17,  4, 18,  5,  6],\n",
              "       [19, 20,  0,  0,  0],\n",
              "       [21, 22,  0,  0,  0],\n",
              "       [23, 24,  2,  3,  0],\n",
              "       [ 5,  6,  0,  0,  0]], dtype=int32)"
            ]
          },
          "metadata": {},
          "execution_count": 17
        }
      ]
    },
    {
      "cell_type": "markdown",
      "source": [
        "## Sentiment Analysis"
      ],
      "metadata": {
        "id": "c7rcF89nX-L-"
      }
    },
    {
      "cell_type": "code",
      "source": [
        "from keras.datasets import imdb\n",
        "from keras import Sequential\n",
        "from keras.layers import Dense,SimpleRNN,Embedding,Flatten"
      ],
      "metadata": {
        "id": "f4cMDq3KDiaC"
      },
      "execution_count": 18,
      "outputs": []
    },
    {
      "cell_type": "code",
      "source": [
        "# Loading data\n",
        "\n",
        "(X_train,y_train),(X_test,y_test) = imdb.load_data()"
      ],
      "metadata": {
        "colab": {
          "base_uri": "https://localhost:8080/"
        },
        "id": "vVqDOLaefsom",
        "outputId": "1815d9b9-2d91-47a3-9876-bcd8df297d20"
      },
      "execution_count": 19,
      "outputs": [
        {
          "output_type": "stream",
          "name": "stdout",
          "text": [
            "Downloading data from https://storage.googleapis.com/tensorflow/tf-keras-datasets/imdb.npz\n",
            "17464789/17464789 [==============================] - 2s 0us/step\n"
          ]
        }
      ]
    },
    {
      "cell_type": "code",
      "source": [
        "X_train[0]"
      ],
      "metadata": {
        "colab": {
          "base_uri": "https://localhost:8080/"
        },
        "id": "HTk54ntQfu6W",
        "outputId": "53dc00b5-250c-4f30-d301-ece88440ca53"
      },
      "execution_count": 20,
      "outputs": [
        {
          "output_type": "execute_result",
          "data": {
            "text/plain": [
              "[1,\n",
              " 14,\n",
              " 22,\n",
              " 16,\n",
              " 43,\n",
              " 530,\n",
              " 973,\n",
              " 1622,\n",
              " 1385,\n",
              " 65,\n",
              " 458,\n",
              " 4468,\n",
              " 66,\n",
              " 3941,\n",
              " 4,\n",
              " 173,\n",
              " 36,\n",
              " 256,\n",
              " 5,\n",
              " 25,\n",
              " 100,\n",
              " 43,\n",
              " 838,\n",
              " 112,\n",
              " 50,\n",
              " 670,\n",
              " 22665,\n",
              " 9,\n",
              " 35,\n",
              " 480,\n",
              " 284,\n",
              " 5,\n",
              " 150,\n",
              " 4,\n",
              " 172,\n",
              " 112,\n",
              " 167,\n",
              " 21631,\n",
              " 336,\n",
              " 385,\n",
              " 39,\n",
              " 4,\n",
              " 172,\n",
              " 4536,\n",
              " 1111,\n",
              " 17,\n",
              " 546,\n",
              " 38,\n",
              " 13,\n",
              " 447,\n",
              " 4,\n",
              " 192,\n",
              " 50,\n",
              " 16,\n",
              " 6,\n",
              " 147,\n",
              " 2025,\n",
              " 19,\n",
              " 14,\n",
              " 22,\n",
              " 4,\n",
              " 1920,\n",
              " 4613,\n",
              " 469,\n",
              " 4,\n",
              " 22,\n",
              " 71,\n",
              " 87,\n",
              " 12,\n",
              " 16,\n",
              " 43,\n",
              " 530,\n",
              " 38,\n",
              " 76,\n",
              " 15,\n",
              " 13,\n",
              " 1247,\n",
              " 4,\n",
              " 22,\n",
              " 17,\n",
              " 515,\n",
              " 17,\n",
              " 12,\n",
              " 16,\n",
              " 626,\n",
              " 18,\n",
              " 19193,\n",
              " 5,\n",
              " 62,\n",
              " 386,\n",
              " 12,\n",
              " 8,\n",
              " 316,\n",
              " 8,\n",
              " 106,\n",
              " 5,\n",
              " 4,\n",
              " 2223,\n",
              " 5244,\n",
              " 16,\n",
              " 480,\n",
              " 66,\n",
              " 3785,\n",
              " 33,\n",
              " 4,\n",
              " 130,\n",
              " 12,\n",
              " 16,\n",
              " 38,\n",
              " 619,\n",
              " 5,\n",
              " 25,\n",
              " 124,\n",
              " 51,\n",
              " 36,\n",
              " 135,\n",
              " 48,\n",
              " 25,\n",
              " 1415,\n",
              " 33,\n",
              " 6,\n",
              " 22,\n",
              " 12,\n",
              " 215,\n",
              " 28,\n",
              " 77,\n",
              " 52,\n",
              " 5,\n",
              " 14,\n",
              " 407,\n",
              " 16,\n",
              " 82,\n",
              " 10311,\n",
              " 8,\n",
              " 4,\n",
              " 107,\n",
              " 117,\n",
              " 5952,\n",
              " 15,\n",
              " 256,\n",
              " 4,\n",
              " 31050,\n",
              " 7,\n",
              " 3766,\n",
              " 5,\n",
              " 723,\n",
              " 36,\n",
              " 71,\n",
              " 43,\n",
              " 530,\n",
              " 476,\n",
              " 26,\n",
              " 400,\n",
              " 317,\n",
              " 46,\n",
              " 7,\n",
              " 4,\n",
              " 12118,\n",
              " 1029,\n",
              " 13,\n",
              " 104,\n",
              " 88,\n",
              " 4,\n",
              " 381,\n",
              " 15,\n",
              " 297,\n",
              " 98,\n",
              " 32,\n",
              " 2071,\n",
              " 56,\n",
              " 26,\n",
              " 141,\n",
              " 6,\n",
              " 194,\n",
              " 7486,\n",
              " 18,\n",
              " 4,\n",
              " 226,\n",
              " 22,\n",
              " 21,\n",
              " 134,\n",
              " 476,\n",
              " 26,\n",
              " 480,\n",
              " 5,\n",
              " 144,\n",
              " 30,\n",
              " 5535,\n",
              " 18,\n",
              " 51,\n",
              " 36,\n",
              " 28,\n",
              " 224,\n",
              " 92,\n",
              " 25,\n",
              " 104,\n",
              " 4,\n",
              " 226,\n",
              " 65,\n",
              " 16,\n",
              " 38,\n",
              " 1334,\n",
              " 88,\n",
              " 12,\n",
              " 16,\n",
              " 283,\n",
              " 5,\n",
              " 16,\n",
              " 4472,\n",
              " 113,\n",
              " 103,\n",
              " 32,\n",
              " 15,\n",
              " 16,\n",
              " 5345,\n",
              " 19,\n",
              " 178,\n",
              " 32]"
            ]
          },
          "metadata": {},
          "execution_count": 20
        }
      ]
    },
    {
      "cell_type": "code",
      "source": [
        "print(len(X_train[2]))\n",
        "print(len(X_train[3]))"
      ],
      "metadata": {
        "colab": {
          "base_uri": "https://localhost:8080/"
        },
        "id": "u9tGLS4ofzBu",
        "outputId": "93a44a17-885a-4f8a-e9e4-e9276086e142"
      },
      "execution_count": 21,
      "outputs": [
        {
          "output_type": "stream",
          "name": "stdout",
          "text": [
            "141\n",
            "550\n"
          ]
        }
      ]
    },
    {
      "cell_type": "code",
      "source": [
        "# MAking dimension of input same\n",
        "\n",
        "X_train = pad_sequences(X_train,padding='post',maxlen=50)\n",
        "X_test = pad_sequences(X_test,padding='post',maxlen=50)"
      ],
      "metadata": {
        "id": "uoEmzhEhf1aV"
      },
      "execution_count": 22,
      "outputs": []
    },
    {
      "cell_type": "code",
      "source": [
        "X_train[0]"
      ],
      "metadata": {
        "colab": {
          "base_uri": "https://localhost:8080/"
        },
        "id": "f4kNirFSgDEe",
        "outputId": "3e2f23b2-2162-44ba-e7a9-5ed129723a80"
      },
      "execution_count": 23,
      "outputs": [
        {
          "output_type": "execute_result",
          "data": {
            "text/plain": [
              "array([2071,   56,   26,  141,    6,  194, 7486,   18,    4,  226,   22,\n",
              "         21,  134,  476,   26,  480,    5,  144,   30, 5535,   18,   51,\n",
              "         36,   28,  224,   92,   25,  104,    4,  226,   65,   16,   38,\n",
              "       1334,   88,   12,   16,  283,    5,   16, 4472,  113,  103,   32,\n",
              "         15,   16, 5345,   19,  178,   32], dtype=int32)"
            ]
          },
          "metadata": {},
          "execution_count": 23
        }
      ]
    },
    {
      "cell_type": "code",
      "source": [
        "# Input_shape as input 50 numbers in each sentense\n",
        "# Output as 1 as negative or positive\n",
        "\n",
        "model = Sequential()\n",
        "\n",
        "model.add(SimpleRNN(32,input_shape=(50,1),return_sequences=False))\n",
        "model.add(Dense(1,activation='sigmoid'))\n",
        "\n",
        "model.summary()"
      ],
      "metadata": {
        "colab": {
          "base_uri": "https://localhost:8080/"
        },
        "id": "MN_Fi3n6gFkp",
        "outputId": "d6cf0cf6-292c-4334-c85e-82d465e8502e"
      },
      "execution_count": 25,
      "outputs": [
        {
          "output_type": "stream",
          "name": "stdout",
          "text": [
            "Model: \"sequential_1\"\n",
            "_________________________________________________________________\n",
            " Layer (type)                Output Shape              Param #   \n",
            "=================================================================\n",
            " simple_rnn_1 (SimpleRNN)    (None, 32)                1088      \n",
            "                                                                 \n",
            " dense_1 (Dense)             (None, 1)                 33        \n",
            "                                                                 \n",
            "=================================================================\n",
            "Total params: 1,121\n",
            "Trainable params: 1,121\n",
            "Non-trainable params: 0\n",
            "_________________________________________________________________\n"
          ]
        }
      ]
    },
    {
      "cell_type": "code",
      "source": [
        "# Compiling model \n",
        "model.compile(loss='binary_crossentropy',optimizer='adam',metrics=['accuracy'])\n",
        "\n",
        "model.fit(X_train,y_train,epochs=5,validation_data=(X_test,y_test))"
      ],
      "metadata": {
        "colab": {
          "base_uri": "https://localhost:8080/"
        },
        "id": "EArIjALcgPTh",
        "outputId": "8aa56d21-e049-49da-d9e0-e73762863408"
      },
      "execution_count": 27,
      "outputs": [
        {
          "output_type": "stream",
          "name": "stdout",
          "text": [
            "Epoch 1/5\n",
            "782/782 [==============================] - 34s 42ms/step - loss: 0.6929 - accuracy: 0.5119 - val_loss: 0.6930 - val_accuracy: 0.5044\n",
            "Epoch 2/5\n",
            "782/782 [==============================] - 32s 41ms/step - loss: 0.6931 - accuracy: 0.5060 - val_loss: 0.6950 - val_accuracy: 0.5018\n",
            "Epoch 3/5\n",
            "782/782 [==============================] - 33s 42ms/step - loss: 0.6929 - accuracy: 0.5055 - val_loss: 0.6939 - val_accuracy: 0.5050\n",
            "Epoch 4/5\n",
            "782/782 [==============================] - 32s 41ms/step - loss: 0.6931 - accuracy: 0.5085 - val_loss: 0.6940 - val_accuracy: 0.5074\n",
            "Epoch 5/5\n",
            "782/782 [==============================] - 33s 43ms/step - loss: 0.6932 - accuracy: 0.5040 - val_loss: 0.6937 - val_accuracy: 0.5053\n"
          ]
        },
        {
          "output_type": "execute_result",
          "data": {
            "text/plain": [
              "<keras.callbacks.History at 0x7f0a95ca4550>"
            ]
          },
          "metadata": {},
          "execution_count": 27
        }
      ]
    },
    {
      "cell_type": "markdown",
      "source": [
        "# How to do encodings using keras embeddings"
      ],
      "metadata": {
        "id": "cJfOPGsuZ5-3"
      }
    },
    {
      "cell_type": "code",
      "source": [
        "docs = ['recurrent neural network',\n",
        "\t\t'neural network',\n",
        "\t\t'artificial neural',\n",
        "\t\t'connections between nodes',\n",
        "\t\t'can create a cycle',\n",
        "\t\t'allowing output',\n",
        "\t\t'some nodes to affect subsequent',\n",
        "\t\t'exhibit temporal',\n",
        "\t\t'dynamic behavior',\n",
        "\t\t'type of Neural Network',\n",
        "    'affect subsequent']"
      ],
      "metadata": {
        "id": "N9ziz5wWgTLS"
      },
      "execution_count": 28,
      "outputs": []
    },
    {
      "cell_type": "code",
      "source": [
        "from keras.preprocessing.text import Tokenizer\n",
        "\n",
        "tokenizer = Tokenizer()"
      ],
      "metadata": {
        "id": "0xaBNsFYaHet"
      },
      "execution_count": 29,
      "outputs": []
    },
    {
      "cell_type": "code",
      "source": [
        "tokenizer.fit_on_texts(docs)"
      ],
      "metadata": {
        "id": "6nRBvlzSaI3t"
      },
      "execution_count": 30,
      "outputs": []
    },
    {
      "cell_type": "code",
      "source": [
        "len(tokenizer.word_index)"
      ],
      "metadata": {
        "colab": {
          "base_uri": "https://localhost:8080/"
        },
        "id": "V_EdsajTaKUl",
        "outputId": "9a2da070-c0f9-4169-a4ae-61356a57d3b3"
      },
      "execution_count": 31,
      "outputs": [
        {
          "output_type": "execute_result",
          "data": {
            "text/plain": [
              "23"
            ]
          },
          "metadata": {},
          "execution_count": 31
        }
      ]
    },
    {
      "cell_type": "code",
      "source": [
        "sequences = tokenizer.texts_to_sequences(docs)\n",
        "sequences"
      ],
      "metadata": {
        "colab": {
          "base_uri": "https://localhost:8080/"
        },
        "id": "QF3bSnFRaMul",
        "outputId": "205baa4e-b6ce-4589-a3fe-7dbd14f0f734"
      },
      "execution_count": 32,
      "outputs": [
        {
          "output_type": "execute_result",
          "data": {
            "text/plain": [
              "[[6, 1, 2],\n",
              " [1, 2],\n",
              " [7, 1],\n",
              " [8, 9, 3],\n",
              " [10, 11, 12, 13],\n",
              " [14, 15],\n",
              " [16, 3, 17, 4, 5],\n",
              " [18, 19],\n",
              " [20, 21],\n",
              " [22, 23, 1, 2],\n",
              " [4, 5]]"
            ]
          },
          "metadata": {},
          "execution_count": 32
        }
      ]
    },
    {
      "cell_type": "code",
      "source": [
        "from keras.utils import pad_sequences\n",
        "sequences = pad_sequences(sequences,padding='post')\n",
        "sequences"
      ],
      "metadata": {
        "colab": {
          "base_uri": "https://localhost:8080/"
        },
        "id": "WTeHNheUaOhe",
        "outputId": "34477f64-b0bc-4281-8a01-c81533141b0d"
      },
      "execution_count": 33,
      "outputs": [
        {
          "output_type": "execute_result",
          "data": {
            "text/plain": [
              "array([[ 6,  1,  2,  0,  0],\n",
              "       [ 1,  2,  0,  0,  0],\n",
              "       [ 7,  1,  0,  0,  0],\n",
              "       [ 8,  9,  3,  0,  0],\n",
              "       [10, 11, 12, 13,  0],\n",
              "       [14, 15,  0,  0,  0],\n",
              "       [16,  3, 17,  4,  5],\n",
              "       [18, 19,  0,  0,  0],\n",
              "       [20, 21,  0,  0,  0],\n",
              "       [22, 23,  1,  2,  0],\n",
              "       [ 4,  5,  0,  0,  0]], dtype=int32)"
            ]
          },
          "metadata": {},
          "execution_count": 33
        }
      ]
    },
    {
      "cell_type": "code",
      "source": [
        "model = Sequential()\n",
        "model.add(Embedding(23,output_dim=2,input_length=5)) #Total vocab len, ouput dim(per word would be represend by 2 vector), input len per row\n",
        "\n",
        "model.summary()"
      ],
      "metadata": {
        "colab": {
          "base_uri": "https://localhost:8080/"
        },
        "id": "7FdWV7YMaQrl",
        "outputId": "93c48b98-1052-4bdf-cbdc-772454ebac86"
      },
      "execution_count": 34,
      "outputs": [
        {
          "output_type": "stream",
          "name": "stdout",
          "text": [
            "Model: \"sequential_2\"\n",
            "_________________________________________________________________\n",
            " Layer (type)                Output Shape              Param #   \n",
            "=================================================================\n",
            " embedding (Embedding)       (None, 5, 2)              46        \n",
            "                                                                 \n",
            "=================================================================\n",
            "Total params: 46\n",
            "Trainable params: 46\n",
            "Non-trainable params: 0\n",
            "_________________________________________________________________\n"
          ]
        }
      ]
    },
    {
      "cell_type": "code",
      "source": [
        "model.compile('adam','accuracy')"
      ],
      "metadata": {
        "id": "2TxCMK-yaTut"
      },
      "execution_count": 35,
      "outputs": []
    },
    {
      "cell_type": "code",
      "source": [
        "pred = model.predict(sequences)\n",
        "print(pred)"
      ],
      "metadata": {
        "colab": {
          "base_uri": "https://localhost:8080/"
        },
        "id": "gEF6P2qSaWS1",
        "outputId": "ceec5a9b-2c1c-4fc2-99c6-b140d8d43c28"
      },
      "execution_count": 36,
      "outputs": [
        {
          "output_type": "stream",
          "name": "stdout",
          "text": [
            "1/1 [==============================] - 0s 101ms/step\n",
            "[[[ 0.03064158  0.01701635]\n",
            "  [-0.03214834 -0.00842739]\n",
            "  [-0.03481197 -0.04845027]\n",
            "  [ 0.03057839  0.0052469 ]\n",
            "  [ 0.03057839  0.0052469 ]]\n",
            "\n",
            " [[-0.03214834 -0.00842739]\n",
            "  [-0.03481197 -0.04845027]\n",
            "  [ 0.03057839  0.0052469 ]\n",
            "  [ 0.03057839  0.0052469 ]\n",
            "  [ 0.03057839  0.0052469 ]]\n",
            "\n",
            " [[ 0.00931837 -0.04935578]\n",
            "  [-0.03214834 -0.00842739]\n",
            "  [ 0.03057839  0.0052469 ]\n",
            "  [ 0.03057839  0.0052469 ]\n",
            "  [ 0.03057839  0.0052469 ]]\n",
            "\n",
            " [[ 0.03957695  0.0162529 ]\n",
            "  [-0.0025581   0.01641394]\n",
            "  [-0.00677083 -0.04656874]\n",
            "  [ 0.03057839  0.0052469 ]\n",
            "  [ 0.03057839  0.0052469 ]]\n",
            "\n",
            " [[-0.00167454 -0.04946348]\n",
            "  [-0.00659036 -0.02173336]\n",
            "  [ 0.03815608  0.02122113]\n",
            "  [ 0.01045545 -0.02768997]\n",
            "  [ 0.03057839  0.0052469 ]]\n",
            "\n",
            " [[-0.02239708 -0.03635423]\n",
            "  [ 0.02403    -0.025287  ]\n",
            "  [ 0.03057839  0.0052469 ]\n",
            "  [ 0.03057839  0.0052469 ]\n",
            "  [ 0.03057839  0.0052469 ]]\n",
            "\n",
            " [[-0.00889545 -0.04352908]\n",
            "  [-0.00677083 -0.04656874]\n",
            "  [ 0.04472888  0.04046382]\n",
            "  [ 0.0351256  -0.00262607]\n",
            "  [-0.00311916 -0.0342087 ]]\n",
            "\n",
            " [[ 0.02686668 -0.0110689 ]\n",
            "  [-0.01254524  0.00989846]\n",
            "  [ 0.03057839  0.0052469 ]\n",
            "  [ 0.03057839  0.0052469 ]\n",
            "  [ 0.03057839  0.0052469 ]]\n",
            "\n",
            " [[ 0.00892413 -0.01958603]\n",
            "  [-0.02418884 -0.00953666]\n",
            "  [ 0.03057839  0.0052469 ]\n",
            "  [ 0.03057839  0.0052469 ]\n",
            "  [ 0.03057839  0.0052469 ]]\n",
            "\n",
            " [[ 0.04596844  0.04672599]\n",
            "  [ 0.          0.        ]\n",
            "  [-0.03214834 -0.00842739]\n",
            "  [-0.03481197 -0.04845027]\n",
            "  [ 0.03057839  0.0052469 ]]\n",
            "\n",
            " [[ 0.0351256  -0.00262607]\n",
            "  [-0.00311916 -0.0342087 ]\n",
            "  [ 0.03057839  0.0052469 ]\n",
            "  [ 0.03057839  0.0052469 ]\n",
            "  [ 0.03057839  0.0052469 ]]]\n"
          ]
        }
      ]
    },
    {
      "cell_type": "code",
      "source": [
        "from keras.datasets import imdb\n",
        "from keras.preprocessing.text import Tokenizer\n",
        "from keras.utils import pad_sequences\n",
        "from keras import Sequential\n",
        "from keras.layers import Dense,SimpleRNN,Embedding,Flatten"
      ],
      "metadata": {
        "id": "kOe6Y-XvaYpV"
      },
      "execution_count": 37,
      "outputs": []
    },
    {
      "cell_type": "code",
      "source": [
        "(X_train,y_train),(X_test,y_test) = imdb.load_data()"
      ],
      "metadata": {
        "id": "4GJQffxGab_F"
      },
      "execution_count": 38,
      "outputs": []
    },
    {
      "cell_type": "code",
      "source": [
        "X_train = pad_sequences(X_train,padding='post',maxlen=50)\n",
        "X_test = pad_sequences(X_test,padding='post',maxlen=50)"
      ],
      "metadata": {
        "id": "i_qz5WkXadm2"
      },
      "execution_count": 39,
      "outputs": []
    },
    {
      "cell_type": "code",
      "source": [
        "X_train.shape"
      ],
      "metadata": {
        "colab": {
          "base_uri": "https://localhost:8080/"
        },
        "id": "JrxiCIxeae5t",
        "outputId": "d7776a1e-02a0-4a06-c7aa-996ff652fd3a"
      },
      "execution_count": 40,
      "outputs": [
        {
          "output_type": "execute_result",
          "data": {
            "text/plain": [
              "(25000, 50)"
            ]
          },
          "metadata": {},
          "execution_count": 40
        }
      ]
    },
    {
      "cell_type": "code",
      "source": [
        "# Considering 10000 words for embedding\n",
        "# In embedding we convert the words to numbers\n",
        "\n",
        "model = Sequential()\n",
        "model.add(Embedding(10000,output_dim=2,input_length=50))\n",
        "model.add(SimpleRNN(32,return_sequences=False))\n",
        "model.add(Dense(1, activation='sigmoid'))\n",
        "\n",
        "model.summary()"
      ],
      "metadata": {
        "colab": {
          "base_uri": "https://localhost:8080/"
        },
        "id": "wLk-ynhmahtF",
        "outputId": "9707e01a-b220-4718-8214-25fa8c241f6a"
      },
      "execution_count": 41,
      "outputs": [
        {
          "output_type": "stream",
          "name": "stdout",
          "text": [
            "Model: \"sequential_3\"\n",
            "_________________________________________________________________\n",
            " Layer (type)                Output Shape              Param #   \n",
            "=================================================================\n",
            " embedding_1 (Embedding)     (None, 50, 2)             20000     \n",
            "                                                                 \n",
            " simple_rnn_2 (SimpleRNN)    (None, 32)                1120      \n",
            "                                                                 \n",
            " dense_2 (Dense)             (None, 1)                 33        \n",
            "                                                                 \n",
            "=================================================================\n",
            "Total params: 21,153\n",
            "Trainable params: 21,153\n",
            "Non-trainable params: 0\n",
            "_________________________________________________________________\n"
          ]
        }
      ]
    },
    {
      "cell_type": "code",
      "source": [
        "model.compile(optimizer='adam', loss='binary_crossentropy', metrics=['acc'])\n",
        "history = model.fit(X_train, y_train,epochs=5,validation_data=(X_test,y_test))"
      ],
      "metadata": {
        "colab": {
          "base_uri": "https://localhost:8080/"
        },
        "id": "rhwG3Or7amgl",
        "outputId": "96546ee7-3357-427b-c04d-1207f20a1b7d"
      },
      "execution_count": 42,
      "outputs": [
        {
          "output_type": "stream",
          "name": "stdout",
          "text": [
            "Epoch 1/5\n",
            "782/782 [==============================] - 73s 92ms/step - loss: 0.6284 - acc: 0.6113 - val_loss: 0.4692 - val_acc: 0.7834\n",
            "Epoch 2/5\n",
            "782/782 [==============================] - 63s 80ms/step - loss: 0.4034 - acc: 0.8201 - val_loss: 0.4223 - val_acc: 0.8088\n",
            "Epoch 3/5\n",
            "782/782 [==============================] - 50s 64ms/step - loss: 0.3285 - acc: 0.8645 - val_loss: 0.4417 - val_acc: 0.8081\n",
            "Epoch 4/5\n",
            "782/782 [==============================] - 55s 71ms/step - loss: 0.2866 - acc: 0.8851 - val_loss: 0.4449 - val_acc: 0.8050\n",
            "Epoch 5/5\n",
            "782/782 [==============================] - 50s 64ms/step - loss: 0.2527 - acc: 0.9058 - val_loss: 0.5113 - val_acc: 0.7900\n"
          ]
        }
      ]
    },
    {
      "cell_type": "markdown",
      "source": [
        "# Predictions"
      ],
      "metadata": {
        "id": "oYgbhaFfeNKE"
      }
    },
    {
      "cell_type": "code",
      "source": [
        "# Redhape the data to make data input ready\n",
        "\n",
        "test_data = X_test[0][0:50].reshape(1,-1)"
      ],
      "metadata": {
        "id": "knQLVIUOdIdn"
      },
      "execution_count": 43,
      "outputs": []
    },
    {
      "cell_type": "code",
      "source": [
        "model.predict(test_data)"
      ],
      "metadata": {
        "colab": {
          "base_uri": "https://localhost:8080/"
        },
        "id": "g-EYytx9dQJ1",
        "outputId": "10c62be3-e030-4053-c647-128b956c0b9c"
      },
      "execution_count": null,
      "outputs": [
        {
          "output_type": "stream",
          "name": "stdout",
          "text": [
            "1/1 [==============================] - 0s 116ms/step\n"
          ]
        },
        {
          "output_type": "execute_result",
          "data": {
            "text/plain": [
              "array([[0.3815383]], dtype=float32)"
            ]
          },
          "metadata": {},
          "execution_count": 51
        }
      ]
    },
    {
      "cell_type": "code",
      "source": [],
      "metadata": {
        "id": "bc6ZWSpEeJzl"
      },
      "execution_count": null,
      "outputs": []
    }
  ]
}